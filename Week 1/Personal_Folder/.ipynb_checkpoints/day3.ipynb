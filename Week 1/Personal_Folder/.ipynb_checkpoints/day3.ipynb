{
 "cells": [
  {
   "cell_type": "code",
   "execution_count": 15,
   "metadata": {},
   "outputs": [
    {
     "name": "stdout",
     "output_type": "stream",
     "text": [
      "your guess is lower than random number\n",
      "your guess is lower than random number\n",
      "your guess is lower than random number\n",
      "your guess is lower than random number\n",
      "your guess is lower than random number\n"
     ]
    }
   ],
   "source": [
    "'''  ### Guessing game\n",
    "1. Take input from user (int)\n",
    "2. Compare the number:\n",
    "    Lower -> \"The number is Lower\"\n",
    "    Greater -> \"The number is Greater\" \n",
    "'''\n",
    "import random\n",
    "random_number = random.randint(1,20)\n",
    "guess = int (input(\"Enter your guess number between 1 to 20\"))\n",
    "for _ in range(5):\n",
    "    if guess==random_number:\n",
    "        print(\"your guess is right\")\n",
    "    elif guess>random_number:\n",
    "        print(\"your guess is greater than random number\")\n",
    "    elif guess<random_number:\n",
    "        print(\"your guess is lower than random number\")\n",
    "        "
   ]
  }
 ],
 "metadata": {
  "kernelspec": {
   "display_name": "Python 3.11.0 64-bit",
   "language": "python",
   "name": "python3"
  },
  "language_info": {
   "codemirror_mode": {
    "name": "ipython",
    "version": 3
   },
   "file_extension": ".py",
   "mimetype": "text/x-python",
   "name": "python",
   "nbconvert_exporter": "python",
   "pygments_lexer": "ipython3",
   "version": "3.11.0"
  },
  "orig_nbformat": 4,
  "vscode": {
   "interpreter": {
    "hash": "82bfa8ecd694b3ab5ba349d6119ee6d1eb55535c51ec85ec9b1559e893bb6e2b"
   }
  }
 },
 "nbformat": 4,
 "nbformat_minor": 2
}
